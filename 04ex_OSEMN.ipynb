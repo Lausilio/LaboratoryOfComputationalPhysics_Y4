{
 "cells": [
  {
   "cell_type": "markdown",
   "metadata": {},
   "source": [
    "# OSEMN Exercises"
   ]
  },
  {
   "cell_type": "code",
   "execution_count": 9,
   "metadata": {},
   "outputs": [],
   "source": [
    "%matplotlib inline\n",
    "import pandas as pd\n",
    "import numpy as np"
   ]
  },
  {
   "cell_type": "markdown",
   "metadata": {},
   "source": [
    "1\\. Create a random list of number and then save it to a text file named \"simple_data.txt\""
   ]
  },
  {
   "cell_type": "code",
   "execution_count": 49,
   "metadata": {},
   "outputs": [],
   "source": [
    "list_of_randoms = np.random.random(100)\n",
    "\n",
    "#with numpy\n",
    "np.savetxt('simple_data.txt', list_of_randoms)"
   ]
  },
  {
   "cell_type": "markdown",
   "metadata": {},
   "source": [
    "2\\. Create a random matrix of 5x5 and then save it to a text file named \"data.txt\""
   ]
  },
  {
   "cell_type": "code",
   "execution_count": 50,
   "metadata": {},
   "outputs": [],
   "source": [
    "random_matrix = np.random.random((5,5))\n",
    "#with numpy\n",
    "np.savetxt('data.txt', random_matrix)"
   ]
  },
  {
   "cell_type": "markdown",
   "metadata": {},
   "source": [
    "3\\. Load the saved txt file of point 2 and convert it to a csv file (by hand)"
   ]
  },
  {
   "cell_type": "code",
   "execution_count": 51,
   "metadata": {},
   "outputs": [
    {
     "name": "stdout",
     "output_type": "stream",
     "text": [
      "['3.449471889677380165e-01', '9.254670736060829350e-01', '8.632372948359242626e-01', '4.236882854771797380e-01', '7.830100336335026334e-01']\n",
      "['8.438595562110334791e-01', '2.540072690577057646e-01', '3.841116716877014392e-01', '2.619965125749370571e-01', '2.542097539184487998e-01']\n",
      "['1.894419646572692573e-01', '1.383546953798254764e-01', '9.320363336927425246e-01', '1.386094455379889290e-01', '3.915371756968849537e-01']\n",
      "['4.969103745787692983e-01', '3.482631454070537202e-01', '6.721747996719587004e-01', '7.523006655946995469e-01', '9.922828317250556029e-01']\n",
      "['6.496909892820484922e-01', '6.985946782308827263e-01', '9.405000244879161420e-01', '7.663542681093601372e-01', '4.090946859098217869e-01']\n"
     ]
    }
   ],
   "source": [
    "f = open(\"data.txt\")\n",
    "\n",
    "import csv\n",
    "\n",
    "with f as data_file:\n",
    "    for line in csv.reader(data_file, delimiter=' '): \n",
    "        print (line)  \n",
    "f.close()"
   ]
  },
  {
   "cell_type": "code",
   "execution_count": 121,
   "metadata": {},
   "outputs": [
    {
     "name": "stdout",
     "output_type": "stream",
     "text": [
      "['3.449471889677380165e-01 9.254670736060829350e-01 8.632372948359242626e-01 4.236882854771797380e-01 7.830100336335026334e-01']\n",
      "[]\n",
      "['8.438595562110334791e-01 2.540072690577057646e-01 3.841116716877014392e-01 2.619965125749370571e-01 2.542097539184487998e-01']\n",
      "[]\n",
      "['1.894419646572692573e-01 1.383546953798254764e-01 9.320363336927425246e-01 1.386094455379889290e-01 3.915371756968849537e-01']\n",
      "[]\n",
      "['4.969103745787692983e-01 3.482631454070537202e-01 6.721747996719587004e-01 7.523006655946995469e-01 9.922828317250556029e-01']\n",
      "[]\n",
      "['6.496909892820484922e-01 6.985946782308827263e-01 9.405000244879161420e-01 7.663542681093601372e-01 4.090946859098217869e-01']\n",
      "[]\n"
     ]
    }
   ],
   "source": [
    "with open('data.txt','r') as in_file:\n",
    "    stripped = (line.strip() for line in in_file)\n",
    "    lines = (line.split(\",\") for line in stripped if line)\n",
    "    with open('data.csv','w') as out_file:\n",
    "        writer = csv.writer(out_file)\n",
    "        writer.writerows(lines)\n",
    "        \n",
    "g = open(\"data.csv\",\"r\")\n",
    "        \n",
    "with g as data_file:\n",
    "    for line in csv.reader(data_file, delimiter=','): \n",
    "        print (line)"
   ]
  },
  {
   "cell_type": "markdown",
   "metadata": {},
   "source": [
    "4\\. load the binary file named *credit_card.dat* and convert the data into the real credit-card number.\n",
    "Each line correspond to a credit card number.\n",
    "Each character is composed by 6 bit (even the space) and the last 4 bit are just a padding\n",
    "\n",
    "**hint**: use the `chr()` function to convert a number to a char"
   ]
  },
  {
   "cell_type": "code",
   "execution_count": 124,
   "metadata": {},
   "outputs": [
    {
     "name": "stdout",
     "output_type": "stream",
     "text": [
      "['7648', '5673', '3775', '2271']\n",
      "['3257', '8247', '3354', '2266']\n",
      "['2722', '0001', '4011', '6652']\n",
      "['0661', '3063', '3742', '3150']\n",
      "['0432', '1608', '1462', '4742']\n",
      "['5827', '2027', '8785', '7303']\n",
      "['5774', '8528', '2087', '1117']\n",
      "['8140', '1210', '6352', '2845']\n",
      "['5764', '1133', '7301', '7100']\n",
      "['6456', '1737', '4126', '6726']\n",
      "['1228', '8631', '7382', '0000']\n",
      "['7051', '0160', '5374', '3166']\n",
      "['0618', '3587', '1630', '6376']\n",
      "['1545', '5454', '7444', '5636']\n",
      "['6735', '3116', '3202', '6834']\n",
      "['7287', '5011', '1547', '8413']\n",
      "['7033', '2607', '3328', '4200']\n",
      "['2568', '5244', '1874', '5024']\n",
      "['1684', '2253', '7570', '7118']\n",
      "['0672', '2576', '0575', '6631']\n",
      "['6332', '8353', '8787', '1340']\n",
      "['1813', '3361', '1175', '4211']\n",
      "['2477', '6450', '8840', '2368']\n",
      "['5512', '3505', '2563', '1326']\n",
      "['3083', '7882', '0621', '0025']\n",
      "['4521', '5148', '8045', '0334']\n",
      "['7563', '3654', '8713', '5787']\n",
      "['8324', '2664', '0476', '5561']\n",
      "['0565', '2504', '7168', '3510']\n",
      "['5107', '5507', '1767', '0738']\n",
      "['2462', '1821', '2448', '1443']\n",
      "['2788', '0638', '6861', '6554']\n",
      "['5851', '5873', '5474', '0547']\n",
      "['0670', '1004', '4013', '2655']\n",
      "['5874', '5506', '3048', '0806']\n",
      "['2805', '5401', '8462', '1260']\n",
      "['5083', '8406', '6310', '1862']\n",
      "['1076', '1445', '3013', '2266']\n",
      "['8440', '4804', '4844', '5277']\n",
      "['4758', '6141', '0686', '1387']\n",
      "['7586', '0675', '0315', '2568']\n",
      "['2544', '1258', '7432', '5165']\n",
      "['3474', '5023', '4434', '5626']\n",
      "['1410', '0270', '0434', '5086']\n",
      "['7315', '4446', '1104', '4215']\n",
      "['0224', '7742', '8300', '0266']\n",
      "['0170', '2700', '3145', '0640']\n",
      "['2006', '2437', '8054', '1600']\n",
      "['8142', '4055', '1776', '0026']\n",
      "['3026', '7380', '1241', '1084']\n",
      "[]\n"
     ]
    }
   ],
   "source": [
    "credit_card = open('credit_card.dat','r')\n",
    "\n",
    "lines = credit_card.readlines()\n",
    "for line in lines:\n",
    "    l = []\n",
    "    a = (lambda x : x != ' ')\n",
    "    for i in range(0,len(line),6):\n",
    "        b = chr(int(line[i:i+6],2))\n",
    "        l.append(b)\n",
    "        l = list(filter(a, l))\n",
    "    l = [ l[j] + l[j+1] + l[j+2] + l[j+3] for j in range(0, len(l)-3, 4)]\n",
    "    print(l)"
   ]
  },
  {
   "cell_type": "markdown",
   "metadata": {},
   "source": [
    "5\\. Load the file \"user_data.json\", filter the data by the \"CreditCardType\" field equals to \"American Express\". Than save the data a to CSV."
   ]
  },
  {
   "cell_type": "code",
   "execution_count": null,
   "metadata": {},
   "outputs": [],
   "source": []
  },
  {
   "cell_type": "markdown",
   "metadata": {},
   "source": [
    "6\\. Load the file from this url: [https://www.dropbox.com/s/7u3lm737ogbqsg8/mushrooms_categorized.csv?dl=1](https://www.dropbox.com/s/7u3lm737ogbqsg8/mushrooms_categorized.csv?dl=1) with Pandas. \n",
    "+ Explore the data (see the info of the data)\n",
    "+ Draw the istogram of the 'class' field. Decribe wath yuou see\n"
   ]
  },
  {
   "cell_type": "code",
   "execution_count": null,
   "metadata": {},
   "outputs": [],
   "source": []
  },
  {
   "cell_type": "markdown",
   "metadata": {},
   "source": [
    "7\\. Load the remote file [https://www.dropbox.com/s/vkl89yce7xjdq4n/regression_generated.csv?dl=1](https://www.dropbox.com/s/vkl89yce7xjdq4n/regression_generated.csv?dl=1) with Pandas and plot a scatter plot all possible combination of the following fields:\n",
    "    \n",
    "  + features_1\n",
    "  + features_2\n",
    "  + features_3"
   ]
  },
  {
   "cell_type": "code",
   "execution_count": null,
   "metadata": {},
   "outputs": [],
   "source": []
  },
  {
   "cell_type": "markdown",
   "metadata": {},
   "source": [
    "8\\. Load the same file of point 6, and convert the file to json with Pandas."
   ]
  },
  {
   "cell_type": "code",
   "execution_count": null,
   "metadata": {},
   "outputs": [],
   "source": []
  }
 ],
 "metadata": {
  "kernelspec": {
   "display_name": "Python 3 (ipykernel)",
   "language": "python",
   "name": "python3"
  },
  "language_info": {
   "codemirror_mode": {
    "name": "ipython",
    "version": 3
   },
   "file_extension": ".py",
   "mimetype": "text/x-python",
   "name": "python",
   "nbconvert_exporter": "python",
   "pygments_lexer": "ipython3",
   "version": "3.8.8"
  }
 },
 "nbformat": 4,
 "nbformat_minor": 2
}
